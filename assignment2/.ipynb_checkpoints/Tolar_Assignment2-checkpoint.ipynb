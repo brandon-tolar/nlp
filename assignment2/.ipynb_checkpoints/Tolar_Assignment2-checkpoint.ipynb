{
 "cells": [
  {
   "cell_type": "code",
   "execution_count": 1,
   "metadata": {
    "collapsed": true
   },
   "outputs": [],
   "source": [
    "import nltk\n",
    "from nltk.corpus import udhr\n",
    "\n",
    "english = udhr.raw('English-Latin1')\n",
    "french = udhr.raw(\"French_Francais-Latin1\")\n",
    "italian = udhr.raw(\"Italian_Italiano-Latin1\")\n",
    "spanish = udhr.raw(\"Spanish_Espanol-Latin1\")"
   ]
  },
  {
   "cell_type": "code",
   "execution_count": 2,
   "metadata": {
    "collapsed": true
   },
   "outputs": [],
   "source": [
    "english_train, english_dev = english[0:1000], english[1000:1100]\n",
    "french_train, french_dev = french[0:1000], french[1000:1100]\n",
    "italian_train, italian_dev = italian[0:1000], italian[1000:1100]\n",
    "spanish_train, spanish_dev = spanish[0:1000], spanish[1000:1100]\n",
    "english_test = udhr.words('English-Latin1')[0:1000]\n",
    "french_test = udhr.words('French_Francais-Latin1')[0:1000]\n",
    "italian_test = udhr.words('Italian_Italiano-Latin1')[0:1000]\n",
    "spanish_test = udhr.words('Spanish_Espanol-Latin1')[0:1000]"
   ]
  },
  {
   "cell_type": "code",
   "execution_count": 3,
   "metadata": {
    "collapsed": true
   },
   "outputs": [],
   "source": [
    "en_uni_freqs = nltk.FreqDist(english_train)\n",
    "fr_uni_freqs = nltk.FreqDist(french_train)\n",
    "it_uni_freqs = nltk.FreqDist(italian_train)\n",
    "sp_uni_freqs = nltk.FreqDist(spanish_train)"
   ]
  },
  {
   "cell_type": "code",
   "execution_count": 4,
   "metadata": {
    "collapsed": true
   },
   "outputs": [],
   "source": [
    "en_bi_freqs = nltk.FreqDist(list(nltk.bigrams(english_train)))\n",
    "fr_bi_freqs = nltk.FreqDist(list(nltk.bigrams(french_train)))\n",
    "it_bi_freqs = nltk.FreqDist(list(nltk.bigrams(italian_train)))\n",
    "sp_bi_freqs = nltk.FreqDist(list(nltk.bigrams(spanish_train)))"
   ]
  },
  {
   "cell_type": "code",
   "execution_count": 5,
   "metadata": {
    "collapsed": true
   },
   "outputs": [],
   "source": [
    "en_tri_freqs = nltk.FreqDist(list(nltk.trigrams(english_train)))\n",
    "fr_tri_freqs = nltk.FreqDist(list(nltk.trigrams(french_train)))\n",
    "it_tri_freqs = nltk.FreqDist(list(nltk.trigrams(italian_train)))\n",
    "sp_tri_freqs = nltk.FreqDist(list(nltk.trigrams(spanish_train)))"
   ]
  },
  {
   "cell_type": "code",
   "execution_count": 6,
   "metadata": {
    "collapsed": true
   },
   "outputs": [],
   "source": [
    "def word_prob(word, dist):\n",
    "    # given the frequency distribution, figure out if unigram, bigram...\n",
    "    n = len(dist.most_common(1)[0][0])\n",
    "    # calculate frequency\n",
    "    result = 1.0\n",
    "    for c in range(len(word)-n+1):\n",
    "        result *= dist.freq(tuple(word[c:c+n]))\n",
    "    # result never changed so \n",
    "    if result != 1.0:\n",
    "        return result\n",
    "    else:\n",
    "        return 0.0"
   ]
  },
  {
   "cell_type": "code",
   "execution_count": 21,
   "metadata": {},
   "outputs": [],
   "source": [
    "##Test code\n",
    "#print(\"%12s|%12s|%12s|%12s|%12s|%12s|%12s\" % (\"word\", \"en_uni\", \"en_bi\", \"en_tri\", \"fr_uni\", \"fr_bi\", \"fr_tri\"))\n",
    "#print(\"=\"*90)\n",
    "#for i in range(10):\n",
    "#    print(\"%12s| %.8f | %.8f | %.8f | %.8f | %.8f | %.8f\" %\n",
    "#          (english_test[i],\n",
    "#           word_prob(english_test[i],en_uni_freqs),\n",
    "#           word_prob(english_test[i],en_bi_freqs),\n",
    "#           word_prob(english_test[i],en_tri_freqs),\n",
    "#           word_prob(english_test[i],fr_uni_freqs),\n",
    "#           word_prob(english_test[i],fr_bi_freqs),\n",
    "#           word_prob(english_test[i],fr_tri_freqs)))\n",
    "    "
   ]
  },
  {
   "cell_type": "code",
   "execution_count": 23,
   "metadata": {},
   "outputs": [
    {
     "name": "stdout",
     "output_type": "stream",
     "text": [
      "Accuracy of each english and french model for english test set:\n",
      "\n",
      "      en_uni|       en_bi|      en_tri|      fr_uni|       fr_bi|      fr_tri\n",
      "================================================================================\n",
      "0.0000000000|0.0015537524|0.0015622716|0.0000000000|0.0003338303|0.0000110221\n",
      "\n",
      "Abs diff between uni models: 0.0\n",
      "Abs diff between bi models: 0.0012199221306470594\n",
      "Abs diff between tri models: 0.0015512495057428501\n"
     ]
    }
   ],
   "source": [
    "## Get accuracies of each english and french model\n",
    "\n",
    "en_uni_prob_sum = 0.0;\n",
    "en_bi_prob_sum = 0.0;\n",
    "en_tri_prob_sum = 0.0;\n",
    "fr_uni_prob_sum = 0.0;\n",
    "fr_bi_prob_sum = 0.0;\n",
    "fr_tri_prob_sum = 0.0;\n",
    "\n",
    "for word in english_test:\n",
    "    en_uni_prob_sum += word_prob(word,en_uni_freqs)\n",
    "    en_bi_prob_sum += word_prob(word,en_bi_freqs)\n",
    "    en_tri_prob_sum += word_prob(word,en_tri_freqs)\n",
    "    fr_uni_prob_sum += word_prob(word,fr_uni_freqs)\n",
    "    fr_bi_prob_sum += word_prob(word,fr_bi_freqs)\n",
    "    fr_tri_prob_sum += word_prob(word,fr_tri_freqs)\n",
    "\n",
    "en_test_len = len(english_test)\n",
    "\n",
    "en_uni_prob_avg = en_uni_prob_sum / en_test_len\n",
    "en_bi_prob_avg = en_bi_prob_sum / en_test_len\n",
    "en_tri_prob_avg = en_tri_prob_sum / en_test_len\n",
    "fr_uni_prob_avg = fr_uni_prob_sum / en_test_len\n",
    "fr_bi_prob_avg = fr_bi_prob_sum / en_test_len\n",
    "fr_tri_prob_avg = fr_tri_prob_sum / en_test_len\n",
    "\n",
    "print(\"Accuracy of each english and french model for english test set:\\n\")\n",
    "print(\"%12s|%12s|%12s|%12s|%12s|%12s\" % (\"en_uni\", \"en_bi\", \"en_tri\", \"fr_uni\", \"fr_bi\", \"fr_tri\"))\n",
    "print(\"=\"*80)\n",
    "print(\"%.10f|%.10f|%.10f|%.10f|%.10f|%.10f\\n\" %\n",
    "      (en_uni_prob_avg, en_bi_prob_avg, en_tri_prob_avg, fr_uni_prob_avg, fr_bi_prob_avg, fr_tri_prob_avg))\n",
    "print(\"Abs diff between uni models:\", abs(en_uni_prob_avg-fr_uni_prob_avg))\n",
    "print(\"Abs diff between bi models:\", abs(en_bi_prob_avg-fr_bi_prob_avg))\n",
    "print(\"Abs diff between tri models:\", abs(en_tri_prob_avg-fr_tri_prob_avg))"
   ]
  },
  {
   "cell_type": "code",
   "execution_count": 22,
   "metadata": {},
   "outputs": [
    {
     "name": "stdout",
     "output_type": "stream",
     "text": [
      "Accuracy of each italian and spanish model for italian test set:\n",
      "\n",
      "      it_uni|       it_bi|      it_tri|      sp_uni|       sp_bi|      sp_tri\n",
      "================================================================================\n",
      "0.0000000000|0.0010674431|0.0002931043|0.0000000000|0.0006732689|0.0000180384\n"
     ]
    }
   ],
   "source": [
    "## Get accuracies of each spanish and italian model\n",
    "\n",
    "it_uni_prob_sum = 0.0;\n",
    "it_bi_prob_sum = 0.0;\n",
    "it_tri_prob_sum = 0.0;\n",
    "sp_uni_prob_sum = 0.0;\n",
    "sp_bi_prob_sum = 0.0;\n",
    "sp_tri_prob_sum = 0.0;\n",
    "\n",
    "for word in italian_test:\n",
    "    it_uni_prob_sum += word_prob(word,it_uni_freqs)\n",
    "    it_bi_prob_sum += word_prob(word,it_bi_freqs)\n",
    "    it_tri_prob_sum += word_prob(word,it_tri_freqs)\n",
    "    sp_uni_prob_sum += word_prob(word,sp_uni_freqs)\n",
    "    sp_bi_prob_sum += word_prob(word,sp_bi_freqs)\n",
    "    sp_tri_prob_sum += word_prob(word,sp_tri_freqs)\n",
    "\n",
    "it_test_len = len(italian_test)\n",
    "\n",
    "it_uni_prob_avg = it_uni_prob_sum / it_test_len\n",
    "it_bi_prob_avg = it_bi_prob_sum / it_test_len\n",
    "it_tri_prob_avg = it_tri_prob_sum / it_test_len\n",
    "sp_uni_prob_avg = sp_uni_prob_sum / it_test_len\n",
    "sp_bi_prob_avg = sp_bi_prob_sum / it_test_len\n",
    "sp_tri_prob_avg = sp_tri_prob_sum / it_test_len\n",
    "\n",
    "print(\"Accuracy of each italian and spanish model for italian test set:\\n\")\n",
    "print(\"%12s|%12s|%12s|%12s|%12s|%12s\" % (\"it_uni\", \"it_bi\", \"it_tri\", \"sp_uni\", \"sp_bi\", \"sp_tri\"))\n",
    "print(\"=\"*80)\n",
    "print(\"%.10f|%.10f|%.10f|%.10f|%.10f|%.10f\\n\" %\n",
    "      (it_uni_prob_avg, it_bi_prob_avg, it_tri_prob_avg, sp_uni_prob_avg, sp_bi_prob_avg, sp_tri_prob_avg))\n",
    "print(\"Abs diff between uni models:\", abs(it_uni_prob_avg-sp_uni_prob_avg))\n",
    "print(\"Abs diff between bi models:\", abs(it_bi_prob_avg-sp_bi_prob_avg))\n",
    "print(\"Abs diff between tri models:\", abs(it_tri_prob_avg-sp_tri_prob_avg))"
   ]
  },
  {
   "cell_type": "code",
   "execution_count": null,
   "metadata": {
    "collapsed": true
   },
   "outputs": [],
   "source": []
  }
 ],
 "metadata": {
  "kernelspec": {
   "display_name": "Python 3",
   "language": "python",
   "name": "python3"
  },
  "language_info": {
   "codemirror_mode": {
    "name": "ipython",
    "version": 3
   },
   "file_extension": ".py",
   "mimetype": "text/x-python",
   "name": "python",
   "nbconvert_exporter": "python",
   "pygments_lexer": "ipython3",
   "version": "3.6.1"
  }
 },
 "nbformat": 4,
 "nbformat_minor": 2
}
